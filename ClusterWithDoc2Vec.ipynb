{
  "nbformat": 4,
  "nbformat_minor": 0,
  "metadata": {
    "colab": {
      "name": "ClusterWithDoc2Vec.ipynb",
      "provenance": [],
      "authorship_tag": "ABX9TyNJVfRltldV9kFyfN0VhmvN",
      "include_colab_link": true
    },
    "kernelspec": {
      "name": "python3",
      "display_name": "Python 3"
    }
  },
  "cells": [
    {
      "cell_type": "markdown",
      "metadata": {
        "id": "view-in-github",
        "colab_type": "text"
      },
      "source": [
        "<a href=\"https://colab.research.google.com/github/wnrktkdtmd/Natural_language_processing/blob/master/ClusterWithDoc2Vec.ipynb\" target=\"_parent\"><img src=\"https://colab.research.google.com/assets/colab-badge.svg\" alt=\"Open In Colab\"/></a>"
      ]
    },
    {
      "cell_type": "code",
      "metadata": {
        "id": "yGj-IWRCJqaF",
        "outputId": "82b7295e-9d12-4da8-e899-c3681ba0742c",
        "colab": {
          "base_uri": "https://localhost:8080/"
        }
      },
      "source": [
        "!pip install gensim==3.8.3"
      ],
      "execution_count": null,
      "outputs": [
        {
          "output_type": "stream",
          "text": [
            "Collecting gensim==3.8.3\n",
            "\u001b[?25l  Downloading https://files.pythonhosted.org/packages/2b/e0/fa6326251692056dc880a64eb22117e03269906ba55a6864864d24ec8b4e/gensim-3.8.3-cp36-cp36m-manylinux1_x86_64.whl (24.2MB)\n",
            "\u001b[K     |████████████████████████████████| 24.2MB 143kB/s \n",
            "\u001b[?25hRequirement already satisfied: numpy>=1.11.3 in /usr/local/lib/python3.6/dist-packages (from gensim==3.8.3) (1.18.5)\n",
            "Requirement already satisfied: smart-open>=1.8.1 in /usr/local/lib/python3.6/dist-packages (from gensim==3.8.3) (3.0.0)\n",
            "Requirement already satisfied: six>=1.5.0 in /usr/local/lib/python3.6/dist-packages (from gensim==3.8.3) (1.15.0)\n",
            "Requirement already satisfied: scipy>=0.18.1 in /usr/local/lib/python3.6/dist-packages (from gensim==3.8.3) (1.4.1)\n",
            "Requirement already satisfied: requests in /usr/local/lib/python3.6/dist-packages (from smart-open>=1.8.1->gensim==3.8.3) (2.23.0)\n",
            "Requirement already satisfied: urllib3!=1.25.0,!=1.25.1,<1.26,>=1.21.1 in /usr/local/lib/python3.6/dist-packages (from requests->smart-open>=1.8.1->gensim==3.8.3) (1.24.3)\n",
            "Requirement already satisfied: certifi>=2017.4.17 in /usr/local/lib/python3.6/dist-packages (from requests->smart-open>=1.8.1->gensim==3.8.3) (2020.6.20)\n",
            "Requirement already satisfied: chardet<4,>=3.0.2 in /usr/local/lib/python3.6/dist-packages (from requests->smart-open>=1.8.1->gensim==3.8.3) (3.0.4)\n",
            "Requirement already satisfied: idna<3,>=2.5 in /usr/local/lib/python3.6/dist-packages (from requests->smart-open>=1.8.1->gensim==3.8.3) (2.10)\n",
            "Installing collected packages: gensim\n",
            "  Found existing installation: gensim 3.6.0\n",
            "    Uninstalling gensim-3.6.0:\n",
            "      Successfully uninstalled gensim-3.6.0\n",
            "Successfully installed gensim-3.8.3\n"
          ],
          "name": "stdout"
        }
      ]
    },
    {
      "cell_type": "code",
      "metadata": {
        "id": "MDpNnD7lJ2Cj",
        "outputId": "c67cab52-34d9-4a48-e0bd-b64fca1e33f3",
        "colab": {
          "base_uri": "https://localhost:8080/"
        }
      },
      "source": [
        "# 구글 드라이브와 연동하는 코드\n",
        "from os import path\n",
        "from google.colab import drive\n",
        "\n",
        "notebooks_dir_name = '2020년도 3학년 2학기/자연어처리/셉템버'\n",
        "drive.mount('/content/gdrive')\n",
        "notebook_base_dir = path.join('./gdrive/My Drive',notebooks_dir_name)\n",
        "if not path.exists(notebook_base_dir):\n",
        "  print ('error')"
      ],
      "execution_count": null,
      "outputs": [
        {
          "output_type": "stream",
          "text": [
            "Mounted at /content/gdrive\n"
          ],
          "name": "stdout"
        }
      ]
    },
    {
      "cell_type": "code",
      "metadata": {
        "id": "6y_QhHgFWQJE"
      },
      "source": [
        "from gensim.models.doc2vec import Doc2Vec\n",
        "\n",
        "model = Doc2Vec.load(notebook_base_dir + \"/model.doc2vec\") "
      ],
      "execution_count": null,
      "outputs": []
    },
    {
      "cell_type": "code",
      "metadata": {
        "id": "OJIUS0xqLSOO",
        "outputId": "79b13ecc-509d-44d1-c6c4-066a254b5b21",
        "colab": {
          "base_uri": "https://localhost:8080/"
        }
      },
      "source": [
        "len(model.docvecs)"
      ],
      "execution_count": null,
      "outputs": [
        {
          "output_type": "execute_result",
          "data": {
            "text/plain": [
              "4876"
            ]
          },
          "metadata": {
            "tags": []
          },
          "execution_count": 12
        }
      ]
    },
    {
      "cell_type": "code",
      "metadata": {
        "id": "i0uEoIFTRRhz"
      },
      "source": [
        "for a in model.docvecs:\n",
        "  print(a)"
      ],
      "execution_count": null,
      "outputs": []
    },
    {
      "cell_type": "code",
      "metadata": {
        "id": "sGfCE2xUWoVv",
        "outputId": "eb9c3eeb-f274-4ec6-e951-a9b6f99cbe7a",
        "colab": {
          "base_uri": "https://localhost:8080/",
          "height": 330
        }
      },
      "source": [
        "docveclists=[]\n",
        "for a in model.docvecs:\n",
        "  docveclists.append(a)"
      ],
      "execution_count": null,
      "outputs": [
        {
          "output_type": "error",
          "ename": "KeyError",
          "evalue": "ignored",
          "traceback": [
            "\u001b[0;31m---------------------------------------------------------------------------\u001b[0m",
            "\u001b[0;31mKeyError\u001b[0m                                  Traceback (most recent call last)",
            "\u001b[0;32m<ipython-input-4-ff649403cc39>\u001b[0m in \u001b[0;36m<module>\u001b[0;34m()\u001b[0m\n\u001b[1;32m      1\u001b[0m \u001b[0mdocveclists\u001b[0m\u001b[0;34m=\u001b[0m\u001b[0;34m[\u001b[0m\u001b[0;34m]\u001b[0m\u001b[0;34m\u001b[0m\u001b[0;34m\u001b[0m\u001b[0m\n\u001b[0;32m----> 2\u001b[0;31m \u001b[0;32mfor\u001b[0m \u001b[0ma\u001b[0m \u001b[0;32min\u001b[0m \u001b[0mmodel\u001b[0m\u001b[0;34m.\u001b[0m\u001b[0mdocvecs\u001b[0m\u001b[0;34m:\u001b[0m\u001b[0;34m\u001b[0m\u001b[0;34m\u001b[0m\u001b[0m\n\u001b[0m\u001b[1;32m      3\u001b[0m   \u001b[0mdocveclists\u001b[0m\u001b[0;34m.\u001b[0m\u001b[0mappend\u001b[0m\u001b[0;34m(\u001b[0m\u001b[0ma\u001b[0m\u001b[0;34m)\u001b[0m\u001b[0;34m\u001b[0m\u001b[0;34m\u001b[0m\u001b[0m\n",
            "\u001b[0;32m/usr/local/lib/python3.6/dist-packages/gensim/models/keyedvectors.py\u001b[0m in \u001b[0;36m__getitem__\u001b[0;34m(self, index)\u001b[0m\n\u001b[1;32m   1611\u001b[0m                 \u001b[0;32mreturn\u001b[0m \u001b[0mself\u001b[0m\u001b[0;34m.\u001b[0m\u001b[0mvectors_docs\u001b[0m\u001b[0;34m[\u001b[0m\u001b[0mself\u001b[0m\u001b[0;34m.\u001b[0m\u001b[0m_int_index\u001b[0m\u001b[0;34m(\u001b[0m\u001b[0mindex\u001b[0m\u001b[0;34m,\u001b[0m \u001b[0mself\u001b[0m\u001b[0;34m.\u001b[0m\u001b[0mdoctags\u001b[0m\u001b[0;34m,\u001b[0m \u001b[0mself\u001b[0m\u001b[0;34m.\u001b[0m\u001b[0mmax_rawint\u001b[0m\u001b[0;34m)\u001b[0m\u001b[0;34m]\u001b[0m\u001b[0;34m\u001b[0m\u001b[0;34m\u001b[0m\u001b[0m\n\u001b[1;32m   1612\u001b[0m             \u001b[0;32mreturn\u001b[0m \u001b[0mvstack\u001b[0m\u001b[0;34m(\u001b[0m\u001b[0;34m[\u001b[0m\u001b[0mself\u001b[0m\u001b[0;34m[\u001b[0m\u001b[0mi\u001b[0m\u001b[0;34m]\u001b[0m \u001b[0;32mfor\u001b[0m \u001b[0mi\u001b[0m \u001b[0;32min\u001b[0m \u001b[0mindex\u001b[0m\u001b[0;34m]\u001b[0m\u001b[0;34m)\u001b[0m\u001b[0;34m\u001b[0m\u001b[0;34m\u001b[0m\u001b[0m\n\u001b[0;32m-> 1613\u001b[0;31m         \u001b[0;32mraise\u001b[0m \u001b[0mKeyError\u001b[0m\u001b[0;34m(\u001b[0m\u001b[0;34m\"tag '%s' not seen in training corpus/invalid\"\u001b[0m \u001b[0;34m%\u001b[0m \u001b[0mindex\u001b[0m\u001b[0;34m)\u001b[0m\u001b[0;34m\u001b[0m\u001b[0;34m\u001b[0m\u001b[0m\n\u001b[0m\u001b[1;32m   1614\u001b[0m \u001b[0;34m\u001b[0m\u001b[0m\n\u001b[1;32m   1615\u001b[0m     \u001b[0;32mdef\u001b[0m \u001b[0m__contains__\u001b[0m\u001b[0;34m(\u001b[0m\u001b[0mself\u001b[0m\u001b[0;34m,\u001b[0m \u001b[0mindex\u001b[0m\u001b[0;34m)\u001b[0m\u001b[0;34m:\u001b[0m\u001b[0;34m\u001b[0m\u001b[0;34m\u001b[0m\u001b[0m\n",
            "\u001b[0;31mKeyError\u001b[0m: \"tag '4876' not seen in training corpus/invalid\""
          ]
        }
      ]
    },
    {
      "cell_type": "code",
      "metadata": {
        "id": "LmrBfHvN87Xu"
      },
      "source": [
        "import numpy as np\n",
        "X = np.array(docveclists)\n",
        "\n",
        "from sklearn.preprocessing import StandardScaler\n",
        "\n",
        "# 평균이 0, 분산이 1이 되도록 데이터의 스케일을 조정합니다\n",
        "scaler = StandardScaler()\n",
        "scaler.fit(X)\n",
        "X_scaled = scaler.transform(X)"
      ],
      "execution_count": null,
      "outputs": []
    },
    {
      "cell_type": "code",
      "metadata": {
        "id": "3-Q_YqvGQMM6",
        "outputId": "b6cb5f00-fb5e-4d3c-a3b5-de56c36a2f26",
        "colab": {
          "base_uri": "https://localhost:8080/"
        }
      },
      "source": [
        "from sklearn.cluster import DBSCAN\n",
        "\n",
        "dbscan = DBSCAN(eps=8, min_samples=3)\n",
        "#0.05, 15: 전부 -1\n",
        "#0.1, 15: 전부 -1\n",
        "#0.2, 15: 전부 -1\n",
        "#0.5, 15: 전부 -1\n",
        "#1, 15: 전부 -1\n",
        "#2, 15: 전부 -1\n",
        "#5, 15: -1 4846개, 0 30개 \n",
        "#10, 15: -1 1647개, 0 3229개 \n",
        "#20, 15: -1 2개, 0 4874개 \n",
        "\n",
        "#0.5, 10: 전부 -1\n",
        "#1, 10: 전부 -1\n",
        "#2, 10: 전부 -1\n",
        "#5, 10: -1 4845개, 0 31개\n",
        "#10, 10: -1 33개, 0 4843개 \n",
        "#20, 10: -1 2개, 0 4874개 \n",
        "\n",
        "#0.5, 5: 전부 -1\n",
        "#1, 5: 전부 -1\n",
        "#2, 5: -1 4861개, 0 9개, 1 6개\n",
        "#5, 5: -1 4826개, 0 32개, 1 5개, 2 6개, 3 7개\n",
        "#7, 5: -1 4672개, 0 181개, 1 5개, 2 5개, 3 6개, 4 7개\n",
        "#8, 5: -1 4157개, 0 719개 \n",
        "#10, 5: -1 1630개, 0 3246개 \n",
        "\n",
        "#0.5, 3: 전부 -1\n",
        "#1, 3: -1 4872개, 0 4개 \n",
        "#2, 3: -1 4855개, 0 9개, 1 6개, 2 3개, 3 3개\n",
        "#5, 3:[4712, 3, 3, 4, 3, 32, 4, 3, 5, 3, 3, 3, 3, 4, 3, 3, 3, 3, 3, 3, 3, 3, 3, 6, 3, 3, 3, 3, 3, 4, 4, 3, 3, 3, 3, 4, 3, 3, 3, 3, 7] (-1 ~ 39)\n",
        "#7, 3:[4523, 193, 3, 3, 3, 4, 3, 5, 3, 4, 3, 5, 3, 3, 3, 3, 3, 3, 3, 3, 4, 3, 3, 3, 3, 6, 3, 3, 3, 3, 4, 3, 3, 3, 3, 3, 3, 3, 3, 3, 3, 3, 3, 3, 3, 3, 3, 3, 4, 7] (-1 ~ 48)\n",
        "#8, 3:[4038, 739, 3, 3, 4, 3, 3, 3, 3, 3, 3, 3, 3, 4, 3, 3, 3, 3, 3, 3, 3, 3, 3, 3, 3, 3, 3, 3, 3, 3, 3, 3, 3, 4] (-1 ~ 32)\n",
        "#10, 3:[1595, 3263, 3, 3, 3, 3, 3, 3] (-1 ~ 6)\n",
        "\n",
        "clusters = dbscan.fit_predict(X_scaled)\n",
        "print(\"클러스터 레이블:\\n{}\".format(clusters))"
      ],
      "execution_count": null,
      "outputs": [
        {
          "output_type": "stream",
          "text": [
            "클러스터 레이블:\n",
            "[ 0 -1 -1 ... -1 -1 -1]\n"
          ],
          "name": "stdout"
        }
      ]
    },
    {
      "cell_type": "code",
      "metadata": {
        "id": "Ork8_RKZX7fI"
      },
      "source": [
        "set(clusters)"
      ],
      "execution_count": null,
      "outputs": []
    },
    {
      "cell_type": "code",
      "metadata": {
        "id": "o1pfHVHBYWw6",
        "outputId": "59362663-ef96-46d6-9a3d-768e7f129235",
        "colab": {
          "base_uri": "https://localhost:8080/"
        }
      },
      "source": [
        "cnt=[0,0,0,0,0,0,0,0,0,0,0,0,0,0,0,0,0,0,0,0,0,0,0,0,0,0,0,0,0,0,0,0,0,0,0,0,0,0,0,0,0,0,0,0,0,0,0,0,0,0,0]\n",
        "for c in clusters:\n",
        "  cnt[c+1]+=1\n",
        "    \n",
        "print(cnt)"
      ],
      "execution_count": null,
      "outputs": [
        {
          "output_type": "stream",
          "text": [
            "[4038, 739, 3, 3, 4, 3, 3, 3, 3, 3, 3, 3, 3, 4, 3, 3, 3, 3, 3, 3, 3, 3, 3, 3, 3, 3, 3, 3, 3, 3, 3, 3, 3, 4, 0, 0, 0, 0, 0, 0, 0, 0, 0, 0, 0, 0, 0, 0, 0, 0, 0]\n"
          ],
          "name": "stdout"
        }
      ]
    },
    {
      "cell_type": "code",
      "metadata": {
        "id": "8sMLmrtvhfi7",
        "outputId": "66c0fe94-6728-43c6-94c1-b875ac8cb7bc",
        "colab": {
          "base_uri": "https://localhost:8080/",
          "height": 297
        }
      },
      "source": [
        "# 완전연결 기법을 적용한 응집형 계층적 클러스터링 수행\n",
        "from scipy.cluster.hierarchy import linkage\n",
        "\n",
        "row_clusters_e=linkage(X_scaled, method='complete',metric='euclidean')\n",
        "\n",
        "from scipy.cluster.hierarchy import dendrogram\n",
        "import matplotlib.pyplot as plt\n",
        "\n",
        "row_dendr=dendrogram(row_clusters_e)\n",
        "plt.tight_layout()\n",
        "plt.show()"
      ],
      "execution_count": null,
      "outputs": [
        {
          "output_type": "display_data",
          "data": {
            "image/png": "[encoded data removed]",
            "text/plain": [
              "<Figure size 432x288 with 1 Axes>"
            ]
          },
          "metadata": {
            "tags": [],
            "needs_background": "light"
          }
        }
      ]
    },
    {
      "cell_type": "code",
      "metadata": {
        "id": "C38_wYyoDFNn",
        "outputId": "f2d6e1ef-61a9-4b64-eac1-663cc5bfeb79",
        "colab": {
          "base_uri": "https://localhost:8080/",
          "height": 297
        }
      },
      "source": [
        "row_clusters_c=linkage(X_scaled, method='complete',metric='cosine')\n",
        "\n",
        "from scipy.cluster.hierarchy import dendrogram\n",
        "import matplotlib.pyplot as plt\n",
        "\n",
        "row_dendr=dendrogram(row_clusters_c)\n",
        "plt.tight_layout()\n",
        "plt.show()"
      ],
      "execution_count": null,
      "outputs": [
        {
          "output_type": "display_data",
          "data": {
            "image/png": "[encoded data removed]",
            "text/plain": [
              "<Figure size 432x288 with 1 Axes>"
            ]
          },
          "metadata": {
            "tags": [],
            "needs_background": "light"
          }
        }
      ]
    },
    {
      "cell_type": "code",
      "metadata": {
        "id": "1XUDvOPcDpwL",
        "outputId": "e768127c-9ca3-413b-b746-c90da0feaa85",
        "colab": {
          "base_uri": "https://localhost:8080/",
          "height": 297
        }
      },
      "source": [
        "row_clusters_c2=linkage(X, method='complete',metric='cosine')\n",
        "\n",
        "from scipy.cluster.hierarchy import dendrogram\n",
        "import matplotlib.pyplot as plt\n",
        "\n",
        "row_dendr=dendrogram(row_clusters_c2)\n",
        "plt.tight_layout()\n",
        "plt.show()"
      ],
      "execution_count": null,
      "outputs": [
        {
          "output_type": "display_data",
          "data": {
            "image/png": "[encoded data removed]",
            "text/plain": [
              "<Figure size 432x288 with 1 Axes>"
            ]
          },
          "metadata": {
            "tags": [],
            "needs_background": "light"
          }
        }
      ]
    },
    {
      "cell_type": "markdown",
      "metadata": {
        "id": "5_BP0C3bHLIN"
      },
      "source": [
        "# DBSCAN 파라미터만 조절하면 됨. \n",
        "## - 결과보니 확실히 데이터간 거리가 크다\n",
        "# HC는 덴드로그램 이후에 어떻게 할지 추가 조사 필요\n",
        "## - 특정 클러스터수 선택 가능? 클러스터별로 라벨 남기려면?\n",
        "# 공유할 데이터 형식 확정해야함\n",
        "## - 인덱스, 제목, 가수, 가사, docvec, clusterLabel?"
      ]
    },
    {
      "cell_type": "code",
      "metadata": {
        "id": "4dYU1JXzIYkZ"
      },
      "source": [
        ""
      ],
      "execution_count": null,
      "outputs": []
    }
  ]
}