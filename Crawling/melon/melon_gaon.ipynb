{
 "cells": [
  {
   "cell_type": "markdown",
   "metadata": {
    "scrolled": true
   },
   "source": [
    "앨범명으로 크롤링하여 순위를 얻는것이 적절하지 않은것 같아, 가온차트에서 검색 가능한 가수명을 담은 리스트를 만들어 크롤링 함"
   ]
  },
  {
   "cell_type": "code",
   "execution_count": null,
   "metadata": {},
   "outputs": [],
   "source": [
    "#-*- coding:utf-8 -*-\n",
    "from selenium import webdriver\n",
    "from selenium.webdriver.common.by import By\n",
    "from selenium.webdriver.support.ui import WebDriverWait\n",
    "from selenium.webdriver.support import expected_conditions as EC\n",
    "from bs4 import BeautifulSoup\n",
    "import time\n",
    "\n",
    "import pickle\n",
    "\n",
    "driver = webdriver.Chrome('../chromedriver.exe')"
   ]
  },
  {
   "cell_type": "code",
   "execution_count": 2,
   "metadata": {},
   "outputs": [],
   "source": [
    "lists = [\n",
    "['인피니트 에이치' ,'인피니트H'],\n",
    "['제아 파이브','제아파이브'],\n",
    "['히스토리','히스토리'],\n",
    "# ['엘씨나인','LC9'], # 안나옴\n",
    "['핫젝갓알지','핫젝갓알지'],\n",
    "['스피드','스피드'],\n",
    "['방탄소년단','방탄소년단'],\n",
    "# ['소년공화국','소년공화국'], # 안나옴\n",
    "# ['엠파이어','엠파이어'], # 안나옴\n",
    "# ['엔오엠','엔오엠'], # 안나옴\n",
    "['제노티','탑독'],  # a.k.a 제노티\n",
    "['프로씨','프로씨'],\n",
    "['투윤', '투윤'],\n",
    "['다소니 (솔지하니)','다소니'],\n",
    "['레이디스 코드','레이디스 코드'],\n",
    "['투아이즈','투아이즈'],\n",
    "['베스티','베스티'],\n",
    "# ['AOA 블랙','AOA 블랙'], # 안나옴\n",
    "# ['와썹','와썹'],# 안나옴\n",
    "['키스&크라이','키스&크라이'],\n",
    "['틴트','틴트'],\n",
    "['엠앤엔','M N'],\n",
    "# ['풍뎅이','풍뎅이'],# 안나옴\n",
    "# ['비트윈','비트윈'], # 안나옴\n",
    "# ['비에이','비에이'], # 안나옴\n",
    "['갓세븐','got7'],\n",
    "['투하트','투하트'],\n",
    "# ['제이제이씨씨','제이제이씨씨'],# 안나옴\n",
    "['하이포','high4'],\n",
    "# ['빅플로','빅플로'], # 안나옴\n",
    "# ['헤일로','헤일로'], # 안나옴\n",
    "# ['엘에이유','엘에이유'], # 안나옴\n",
    "# ['비아이지','비아이지'], # 안나옴\n",
    "['위너','winner'],\n",
    "# ['유니크','유니크'], # 안나옴\n",
    "# ['매드타운','매드타운'], # 안나옴\n",
    "# ['핫샷','핫샷'], # 안나옴\n",
    "['지디 앤 태양','GD X TAEYANG'],\n",
    "['인피니트F','인피니트F'],\n",
    "# ['칠학년일반','칠학년일반'], # 안나옴\n",
    "# ['윙스','윙스'], # 스윙스가 나옴\n",
    "['레드벨벳','레드벨벳'],\n",
    "['스피카.S','스피카.S'],\n",
    "['레인보우 블랙','레인보우 블랙'],\n",
    "# ['베리굿','베리굿'], # 안나옴\n",
    "# ['단발머리','단발머리'],# 안나옴\n",
    "['마마무','마마무'],\n",
    "# ['에이코어','에이코어'],# 안나옴\n",
    "# ['라붐','라붐'], # 안나옴\n",
    "# ['(밍스)드림캐쳐','(밍스)드림캐쳐'], # 안나옴\n",
    "['딸기우유','크레용팝-딸기우유'],\n",
    "['러블리즈','러블리즈'],\n",
    "# ['워너비','워너비'],# 안나옴\n",
    "# ['소나무','소나무'], # 안나옴\n",
    "['블락비 바스타즈','블락비 바스타즈'],\n",
    "# ['로미오','로미오'], # 안나옴\n",
    "['몬스타엑스','몬스타엑스'],\n",
    "['엔플라잉','엔플라잉'],\n",
    "['세븐틴','세븐틴'],\n",
    "['아이콘','ikon'],\n",
    "['데이식스','day6'],\n",
    "# ['포켓걸스','포켓걸스'], # 안나옴\n",
    "['업텐션','업텐션'],\n",
    "# ['브이에이브이','브이에이브이'], #안나옴\n",
    "# ['맵식스','맵식스'],# 안나옴\n",
    "# ['스누퍼','snuper'], # 안나옴\n",
    "['여자친구','여자친구'],\n",
    "# ['러버소울','러버소울'],# 안나옴\n",
    "# ['씨엘씨','씨엘씨'], #안나옴\n",
    "['빅스LR','빅스LR'],\n",
    "['오마이걸','오마이걸'],\n",
    "# ['멜로디데이','멜로디데이'],# 안나옴\n",
    "['에이프릴','에이프릴'],\n",
    "['다이아','다이아'],\n",
    "['트와이스','TWICE']\n",
    "]"
   ]
  },
  {
   "cell_type": "code",
   "execution_count": 3,
   "metadata": {},
   "outputs": [
    {
     "name": "stdout",
     "output_type": "stream",
     "text": [
      "\n"
     ]
    }
   ],
   "source": [
    "try:\n",
    "    element = WebDriverWait(driver, 3).until(\n",
    "        EC.presence_of_element_located((By.ID, \"myDynamicElement\"))\n",
    "    )\n",
    "except:\n",
    "    print()\n",
    "\n",
    "# # 팝업 끄기\n",
    "# close = driver.find_element(By.XPATH, \"(//a[@class='btn_close'])[last()]\")\n",
    "# close.send_keys('\\n')\n",
    "\n",
    "\n",
    "# more = driver.find_element(By.XPATH, \"(//div[@class='btn_more_list']/a)\")\n",
    "# driver.execute_script(\"arguments[0].click();\", more)\n",
    "\n",
    "\n",
    "# html = driver.page_source\n",
    "# soup = BeautifulSoup(html, 'html.parser')\n",
    "\n",
    "# tag = soup.find_all('tbody')"
   ]
  },
  {
   "cell_type": "code",
   "execution_count": null,
   "metadata": {
    "scrolled": true
   },
   "outputs": [],
   "source": []
  },
  {
   "cell_type": "code",
   "execution_count": null,
   "metadata": {},
   "outputs": [],
   "source": []
  },
  {
   "cell_type": "code",
   "execution_count": 4,
   "metadata": {
    "scrolled": false
   },
   "outputs": [],
   "source": [
    "albums = []\n",
    "# ranking = {}\n",
    "        \n",
    "##  곡 순위 모으기\n",
    "for li in lists:\n",
    "    ranking = {}\n",
    "    for years in range(2013, 2020 + 1):\n",
    "        \n",
    "        driver.get('http://gaonchart.co.kr/main/section/search/list.gaon?serviceGbn=ALL&nationGbn=K&yyyy='+  str(years) +'&condition=2&search_str='+li[1])\n",
    "        try:\n",
    "            element = WebDriverWait(driver, 1.5).until(\n",
    "                EC.presence_of_element_located((By.ID, \"myDynamicElement\"))\n",
    "            )\n",
    "        except:\n",
    "            print( \"\", end='')\n",
    "            \n",
    "            \n",
    "        for _ in range(3):\n",
    "            try:\n",
    "                more = driver.find_element(By.XPATH, \"(//div[@id='divMore_ALL_week'])\")\n",
    "                driver.execute_script(\"arguments[0].click();\", more)\n",
    "            except:    # 예외가 발생했을 때 실행됨\n",
    "                try:\n",
    "                    element = WebDriverWait(driver, 1).until(\n",
    "                        EC.presence_of_element_located((By.ID, \"myDynamicElement\"))\n",
    "                    )\n",
    "                except:\n",
    "                    print( \"\", end='')\n",
    "\n",
    "                break\n",
    "\n",
    "        try:\n",
    "            html = driver.page_source\n",
    "        except:\n",
    "            html = driver.page_source\n",
    "            \n",
    "        soup = BeautifulSoup(html, 'html.parser')\n",
    "        soup.find('table', {'id':'chart_ALL_week'}).find_all('tr')[1:]\n",
    "        \n",
    "        for item in soup.find('table', {'id':'chart_ALL_week'}).find_all('tr')[1:]:\n",
    "#     print(item.find_all('td')[1].string)\n",
    "#     print(item.find_all('td')[2].string)\n",
    "            if (ranking.get(str(item.find_all('td')[2].string)) == None):\n",
    "                ranking[str(item.find_all('td')[2].string)] = int(item.find_all('td')[1].string)\n",
    "            elif(ranking[str(item.find_all('td')[2].string)] > int(item.find_all('td')[1].string)): \n",
    "                ranking[str(item.find_all('td')[2].string)] = int(item.find_all('td')[1].string)\n",
    "## 앨범속 곡 순위 모으기 끝\n",
    "    with open('./rank/'+li[0]+'_ranking.pkl', 'wb') as aaaa:\n",
    "        pickle.dump(ranking, aaaa)"
   ]
  },
  {
   "cell_type": "code",
   "execution_count": 5,
   "metadata": {},
   "outputs": [
    {
     "data": {
      "text/plain": [
       "{'OOH-AHH하게': 10,\n",
       " 'TT': 1,\n",
       " 'CHEER UP': 1,\n",
       " '내가 예뻐진 이유': 95,\n",
       " '1 TO 10': 34,\n",
       " 'ONE IN A MILLION': 54,\n",
       " 'PONYTAIL': 66,\n",
       " 'JELLY JELLY': 67,\n",
       " 'PIT-A-PAT': 73,\n",
       " 'NEXT PAGE': 76,\n",
       " '소중한 사랑': 71,\n",
       " 'Touchdown': 83,\n",
       " 'Heart Shaker': 1,\n",
       " 'LIKEY': 1,\n",
       " 'Merry & Happy': 22,\n",
       " '거북이': 25,\n",
       " 'MISSING U': 45,\n",
       " 'WOW': 84,\n",
       " '24/7': 93,\n",
       " 'FFW': 94,\n",
       " 'SIGNAL': 1,\n",
       " 'KNOCK KNOCK': 15,\n",
       " 'ONLY 너': 54,\n",
       " '하루에 세번': 55,\n",
       " 'SOMEONE LIKE ME': 74,\n",
       " 'HOLD ME TIGHT': 76,\n",
       " 'EYE EYE EYES': 78,\n",
       " 'YES or YES': 1,\n",
       " 'Dance The Night Away': 1,\n",
       " '올해 제일 잘한 일': 26,\n",
       " 'What is Love?': 3,\n",
       " 'CHILLAX': 60,\n",
       " 'Feel Special': 9,\n",
       " 'FANCY': 3,\n",
       " 'MORE & MORE': 4}"
      ]
     },
     "execution_count": 5,
     "metadata": {},
     "output_type": "execute_result"
    }
   ],
   "source": [
    "ranking"
   ]
  },
  {
   "cell_type": "code",
   "execution_count": null,
   "metadata": {},
   "outputs": [],
   "source": []
  }
 ],
 "metadata": {
  "kernelspec": {
   "display_name": "Python 3",
   "language": "python",
   "name": "python3"
  },
  "language_info": {
   "codemirror_mode": {
    "name": "ipython",
    "version": 3
   },
   "file_extension": ".py",
   "mimetype": "text/x-python",
   "name": "python",
   "nbconvert_exporter": "python",
   "pygments_lexer": "ipython3",
   "version": "3.8.3"
  }
 },
 "nbformat": 4,
 "nbformat_minor": 4
}
